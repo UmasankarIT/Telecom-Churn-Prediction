{
 "cells": [
  {
   "cell_type": "markdown",
   "id": "0272185e",
   "metadata": {},
   "source": [
    "DATA CLEANING"
   ]
  },
  {
   "cell_type": "code",
   "execution_count": null,
   "id": "b2349b93",
   "metadata": {},
   "outputs": [],
   "source": [
    "import warnings\n",
    "warnings.filterwarnings(\"ignore\")"
   ]
  },
  {
   "cell_type": "code",
   "execution_count": 69,
   "id": "e521431f",
   "metadata": {},
   "outputs": [],
   "source": [
    "import pandas as pd\n",
    "\n",
    "df = pd.read_csv(\"raw.csv\")"
   ]
  },
  {
   "cell_type": "code",
   "execution_count": 70,
   "id": "cac5b13c",
   "metadata": {},
   "outputs": [
    {
     "data": {
      "text/plain": [
       "Index(['year', 'month', 'circle', 'type_of_connection', 'service_provider',\n",
       "       'value', 'unit', 'notes'],\n",
       "      dtype='object')"
      ]
     },
     "execution_count": 70,
     "metadata": {},
     "output_type": "execute_result"
    }
   ],
   "source": [
    "df.columns"
   ]
  },
  {
   "cell_type": "code",
   "execution_count": 71,
   "id": "a55b9673",
   "metadata": {},
   "outputs": [
    {
     "data": {
      "text/html": [
       "<div>\n",
       "<style scoped>\n",
       "    .dataframe tbody tr th:only-of-type {\n",
       "        vertical-align: middle;\n",
       "    }\n",
       "\n",
       "    .dataframe tbody tr th {\n",
       "        vertical-align: top;\n",
       "    }\n",
       "\n",
       "    .dataframe thead th {\n",
       "        text-align: right;\n",
       "    }\n",
       "</style>\n",
       "<table border=\"1\" class=\"dataframe\">\n",
       "  <thead>\n",
       "    <tr style=\"text-align: right;\">\n",
       "      <th></th>\n",
       "      <th>year</th>\n",
       "      <th>month</th>\n",
       "      <th>circle</th>\n",
       "      <th>type_of_connection</th>\n",
       "      <th>service_provider</th>\n",
       "      <th>value</th>\n",
       "      <th>unit</th>\n",
       "      <th>notes</th>\n",
       "    </tr>\n",
       "  </thead>\n",
       "  <tbody>\n",
       "    <tr>\n",
       "      <th>0</th>\n",
       "      <td>2025</td>\n",
       "      <td>April</td>\n",
       "      <td>Andhra Pradesh</td>\n",
       "      <td>wireless</td>\n",
       "      <td>Bharti Airtel (Including Tata Tele.)</td>\n",
       "      <td>33965795</td>\n",
       "      <td>value in absolute number</td>\n",
       "      <td>NaN</td>\n",
       "    </tr>\n",
       "    <tr>\n",
       "      <th>1</th>\n",
       "      <td>2025</td>\n",
       "      <td>April</td>\n",
       "      <td>Assam</td>\n",
       "      <td>wireless</td>\n",
       "      <td>Bharti Airtel (Including Tata Tele.)</td>\n",
       "      <td>12314102</td>\n",
       "      <td>value in absolute number</td>\n",
       "      <td>NaN</td>\n",
       "    </tr>\n",
       "    <tr>\n",
       "      <th>2</th>\n",
       "      <td>2025</td>\n",
       "      <td>April</td>\n",
       "      <td>Bihar</td>\n",
       "      <td>wireless</td>\n",
       "      <td>Bharti Airtel (Including Tata Tele.)</td>\n",
       "      <td>40967773</td>\n",
       "      <td>value in absolute number</td>\n",
       "      <td>NaN</td>\n",
       "    </tr>\n",
       "    <tr>\n",
       "      <th>3</th>\n",
       "      <td>2025</td>\n",
       "      <td>April</td>\n",
       "      <td>Delhi</td>\n",
       "      <td>wireless</td>\n",
       "      <td>Bharti Airtel (Including Tata Tele.)</td>\n",
       "      <td>18877637</td>\n",
       "      <td>value in absolute number</td>\n",
       "      <td>NaN</td>\n",
       "    </tr>\n",
       "    <tr>\n",
       "      <th>4</th>\n",
       "      <td>2025</td>\n",
       "      <td>April</td>\n",
       "      <td>Gujarat</td>\n",
       "      <td>wireless</td>\n",
       "      <td>Bharti Airtel (Including Tata Tele.)</td>\n",
       "      <td>12401101</td>\n",
       "      <td>value in absolute number</td>\n",
       "      <td>NaN</td>\n",
       "    </tr>\n",
       "  </tbody>\n",
       "</table>\n",
       "</div>"
      ],
      "text/plain": [
       "   year  month          circle type_of_connection  \\\n",
       "0  2025  April  Andhra Pradesh           wireless   \n",
       "1  2025  April           Assam           wireless   \n",
       "2  2025  April           Bihar           wireless   \n",
       "3  2025  April           Delhi           wireless   \n",
       "4  2025  April         Gujarat           wireless   \n",
       "\n",
       "                       service_provider     value                      unit  \\\n",
       "0  Bharti Airtel (Including Tata Tele.)  33965795  value in absolute number   \n",
       "1  Bharti Airtel (Including Tata Tele.)  12314102  value in absolute number   \n",
       "2  Bharti Airtel (Including Tata Tele.)  40967773  value in absolute number   \n",
       "3  Bharti Airtel (Including Tata Tele.)  18877637  value in absolute number   \n",
       "4  Bharti Airtel (Including Tata Tele.)  12401101  value in absolute number   \n",
       "\n",
       "  notes  \n",
       "0   NaN  \n",
       "1   NaN  \n",
       "2   NaN  \n",
       "3   NaN  \n",
       "4   NaN  "
      ]
     },
     "execution_count": 71,
     "metadata": {},
     "output_type": "execute_result"
    }
   ],
   "source": [
    "df.head()"
   ]
  },
  {
   "cell_type": "code",
   "execution_count": 72,
   "id": "bb06343d",
   "metadata": {},
   "outputs": [
    {
     "name": "stdout",
     "output_type": "stream",
     "text": [
      "<class 'pandas.core.frame.DataFrame'>\n",
      "RangeIndex: 70728 entries, 0 to 70727\n",
      "Data columns (total 8 columns):\n",
      " #   Column              Non-Null Count  Dtype \n",
      "---  ------              --------------  ----- \n",
      " 0   year                70728 non-null  int64 \n",
      " 1   month               70728 non-null  object\n",
      " 2   circle              70728 non-null  object\n",
      " 3   type_of_connection  70728 non-null  object\n",
      " 4   service_provider    70728 non-null  object\n",
      " 5   value               58396 non-null  object\n",
      " 6   unit                70728 non-null  object\n",
      " 7   notes               511 non-null    object\n",
      "dtypes: int64(1), object(7)\n",
      "memory usage: 4.3+ MB\n"
     ]
    }
   ],
   "source": [
    "df.info()"
   ]
  },
  {
   "cell_type": "code",
   "execution_count": 73,
   "id": "5f6ead6b",
   "metadata": {},
   "outputs": [
    {
     "data": {
      "text/html": [
       "<div>\n",
       "<style scoped>\n",
       "    .dataframe tbody tr th:only-of-type {\n",
       "        vertical-align: middle;\n",
       "    }\n",
       "\n",
       "    .dataframe tbody tr th {\n",
       "        vertical-align: top;\n",
       "    }\n",
       "\n",
       "    .dataframe thead th {\n",
       "        text-align: right;\n",
       "    }\n",
       "</style>\n",
       "<table border=\"1\" class=\"dataframe\">\n",
       "  <thead>\n",
       "    <tr style=\"text-align: right;\">\n",
       "      <th></th>\n",
       "      <th>year</th>\n",
       "    </tr>\n",
       "  </thead>\n",
       "  <tbody>\n",
       "    <tr>\n",
       "      <th>count</th>\n",
       "      <td>70728.000000</td>\n",
       "    </tr>\n",
       "    <tr>\n",
       "      <th>mean</th>\n",
       "      <td>2016.026298</td>\n",
       "    </tr>\n",
       "    <tr>\n",
       "      <th>std</th>\n",
       "      <td>4.748129</td>\n",
       "    </tr>\n",
       "    <tr>\n",
       "      <th>min</th>\n",
       "      <td>2009.000000</td>\n",
       "    </tr>\n",
       "    <tr>\n",
       "      <th>25%</th>\n",
       "      <td>2012.000000</td>\n",
       "    </tr>\n",
       "    <tr>\n",
       "      <th>50%</th>\n",
       "      <td>2016.000000</td>\n",
       "    </tr>\n",
       "    <tr>\n",
       "      <th>75%</th>\n",
       "      <td>2020.000000</td>\n",
       "    </tr>\n",
       "    <tr>\n",
       "      <th>max</th>\n",
       "      <td>2025.000000</td>\n",
       "    </tr>\n",
       "  </tbody>\n",
       "</table>\n",
       "</div>"
      ],
      "text/plain": [
       "               year\n",
       "count  70728.000000\n",
       "mean    2016.026298\n",
       "std        4.748129\n",
       "min     2009.000000\n",
       "25%     2012.000000\n",
       "50%     2016.000000\n",
       "75%     2020.000000\n",
       "max     2025.000000"
      ]
     },
     "execution_count": 73,
     "metadata": {},
     "output_type": "execute_result"
    }
   ],
   "source": [
    "df.describe()"
   ]
  },
  {
   "cell_type": "code",
   "execution_count": 74,
   "id": "f4eb7c8f",
   "metadata": {},
   "outputs": [],
   "source": [
    "df = df.drop(columns = ['unit'])"
   ]
  },
  {
   "cell_type": "code",
   "execution_count": 75,
   "id": "2f6556b6",
   "metadata": {},
   "outputs": [],
   "source": [
    "df = df.drop(columns = ['notes'])"
   ]
  },
  {
   "cell_type": "code",
   "execution_count": 76,
   "id": "3e1aa3dc",
   "metadata": {},
   "outputs": [
    {
     "data": {
      "text/plain": [
       "Index(['year', 'month', 'circle', 'type_of_connection', 'service_provider',\n",
       "       'value'],\n",
       "      dtype='object')"
      ]
     },
     "execution_count": 76,
     "metadata": {},
     "output_type": "execute_result"
    }
   ],
   "source": [
    "df.columns"
   ]
  },
  {
   "cell_type": "code",
   "execution_count": 77,
   "id": "1f95fefc",
   "metadata": {},
   "outputs": [
    {
     "data": {
      "text/plain": [
       "year                      0\n",
       "month                     0\n",
       "circle                    0\n",
       "type_of_connection        0\n",
       "service_provider          0\n",
       "value                 12332\n",
       "dtype: int64"
      ]
     },
     "execution_count": 77,
     "metadata": {},
     "output_type": "execute_result"
    }
   ],
   "source": [
    "#check for missing values\n",
    "df.isnull().sum()"
   ]
  },
  {
   "cell_type": "code",
   "execution_count": 78,
   "id": "a2fe6452",
   "metadata": {},
   "outputs": [],
   "source": [
    "# Convert to numeric  (in case there are strings)\n",
    "\n",
    "df['year'] = pd.to_numeric(df['year'], errors='coerce').astype(int)\n",
    "df['value'] = pd.to_numeric(df['value'], errors='coerce')\n"
   ]
  },
  {
   "cell_type": "code",
   "execution_count": 79,
   "id": "29d7e789",
   "metadata": {},
   "outputs": [],
   "source": [
    "# Fill missing values with median\n",
    "df['value'] = df['value'].fillna(df['value'].median())"
   ]
  },
  {
   "cell_type": "code",
   "execution_count": 80,
   "id": "ec690e50",
   "metadata": {},
   "outputs": [
    {
     "data": {
      "text/plain": [
       "year                  0\n",
       "month                 0\n",
       "circle                0\n",
       "type_of_connection    0\n",
       "service_provider      0\n",
       "value                 0\n",
       "dtype: int64"
      ]
     },
     "execution_count": 80,
     "metadata": {},
     "output_type": "execute_result"
    }
   ],
   "source": [
    "df.isnull().sum()"
   ]
  },
  {
   "cell_type": "code",
   "execution_count": 81,
   "id": "bd03a401",
   "metadata": {},
   "outputs": [
    {
     "data": {
      "text/plain": [
       "Index(['year', 'month', 'circle', 'type_of_connection', 'service_provider',\n",
       "       'value'],\n",
       "      dtype='object')"
      ]
     },
     "execution_count": 81,
     "metadata": {},
     "output_type": "execute_result"
    }
   ],
   "source": [
    "df.columns"
   ]
  },
  {
   "cell_type": "code",
   "execution_count": 82,
   "id": "cafd52d8",
   "metadata": {},
   "outputs": [
    {
     "data": {
      "text/plain": [
       "year                  False\n",
       "month                 False\n",
       "circle                False\n",
       "type_of_connection    False\n",
       "service_provider      False\n",
       "value                 False\n",
       "dtype: bool"
      ]
     },
     "execution_count": 82,
     "metadata": {},
     "output_type": "execute_result"
    }
   ],
   "source": [
    "df.isnull().any()"
   ]
  },
  {
   "cell_type": "code",
   "execution_count": 83,
   "id": "6a65074e",
   "metadata": {},
   "outputs": [],
   "source": [
    "df['value'] = pd.to_numeric(df['value'], errors='coerce').astype(int)"
   ]
  },
  {
   "cell_type": "code",
   "execution_count": 84,
   "id": "24387fa9",
   "metadata": {},
   "outputs": [
    {
     "data": {
      "text/plain": [
       "year                   int64\n",
       "month                 object\n",
       "circle                object\n",
       "type_of_connection    object\n",
       "service_provider      object\n",
       "value                  int64\n",
       "dtype: object"
      ]
     },
     "execution_count": 84,
     "metadata": {},
     "output_type": "execute_result"
    }
   ],
   "source": [
    "df.dtypes"
   ]
  },
  {
   "cell_type": "markdown",
   "id": "38eddaee",
   "metadata": {},
   "source": [
    "OUTLIERS  :  \n",
    "           --> An outlier is a data point that is very different from the rest of the data.It’s much higher or much lower than most other values in a column."
   ]
  },
  {
   "cell_type": "code",
   "execution_count": 85,
   "id": "2617064a",
   "metadata": {},
   "outputs": [
    {
     "data": {
      "text/plain": [
       "np.int64(476527220)"
      ]
     },
     "execution_count": 85,
     "metadata": {},
     "output_type": "execute_result"
    }
   ],
   "source": [
    "df['value'].max()"
   ]
  },
  {
   "cell_type": "code",
   "execution_count": 86,
   "id": "ac4652dc",
   "metadata": {},
   "outputs": [
    {
     "data": {
      "text/plain": [
       "np.int64(0)"
      ]
     },
     "execution_count": 86,
     "metadata": {},
     "output_type": "execute_result"
    }
   ],
   "source": [
    "df['value'].min()"
   ]
  },
  {
   "cell_type": "code",
   "execution_count": 87,
   "id": "3a40ab52",
   "metadata": {},
   "outputs": [
    {
     "name": "stdout",
     "output_type": "stream",
     "text": [
      "59978.5\n",
      "3822332.0\n"
     ]
    }
   ],
   "source": [
    "Q1 = df['value'].quantile(0.25)\n",
    "Q3 = df['value'].quantile(0.75)\n",
    "\n",
    "print(Q1)\n",
    "print(Q3)"
   ]
  },
  {
   "cell_type": "code",
   "execution_count": 88,
   "id": "5f7cbd37",
   "metadata": {},
   "outputs": [
    {
     "name": "stdout",
     "output_type": "stream",
     "text": [
      "-5583551.75\n",
      "9465862.25\n"
     ]
    }
   ],
   "source": [
    "IQR = Q3 - Q1\n",
    "\n",
    "lower_limit = Q1 - 1.5 * IQR\n",
    "upper_limit = Q3 + 1.5 * IQR\n",
    "\n",
    "print(lower_limit)\n",
    "print(upper_limit)"
   ]
  },
  {
   "cell_type": "code",
   "execution_count": 89,
   "id": "0b5cb695",
   "metadata": {},
   "outputs": [
    {
     "name": "stdout",
     "output_type": "stream",
     "text": [
      "       year     month          circle type_of_connection  \\\n",
      "0      2025     April  Andhra Pradesh           wireless   \n",
      "1      2025     April           Assam           wireless   \n",
      "2      2025     April           Bihar           wireless   \n",
      "3      2025     April           Delhi           wireless   \n",
      "4      2025     April         Gujarat           wireless   \n",
      "...     ...       ...             ...                ...   \n",
      "70345  2009       May       All India           wireline   \n",
      "70442  2009     April       All India           wireline   \n",
      "70538  2009     March       All India           wireline   \n",
      "70632  2009  February       All India           wireline   \n",
      "70727  2009   January       All India           wireline   \n",
      "\n",
      "                           service_provider     value  \n",
      "0      Bharti Airtel (Including Tata Tele.)  33965795  \n",
      "1      Bharti Airtel (Including Tata Tele.)  12314102  \n",
      "2      Bharti Airtel (Including Tata Tele.)  40967773  \n",
      "3      Bharti Airtel (Including Tata Tele.)  18877637  \n",
      "4      Bharti Airtel (Including Tata Tele.)  12401101  \n",
      "...                                     ...       ...  \n",
      "70345                                  BSNL  28975972  \n",
      "70442                                  BSNL  29149831  \n",
      "70538                                  BSNL  29346431  \n",
      "70632                                  BSNL  29229427  \n",
      "70727                                  BSNL  29291013  \n",
      "\n",
      "[8245 rows x 6 columns]\n"
     ]
    }
   ],
   "source": [
    "Q1 = df['value'].quantile(0.25)\n",
    "Q3 = df['value'].quantile(0.75)\n",
    "IQR = Q3 - Q1\n",
    "\n",
    "# Define bounds\n",
    "lower_limit = Q1 - 1.5 * IQR\n",
    "upper_limit = Q3 + 1.5 * IQR\n",
    "\n",
    "# Find outliers\n",
    "outliers = df[(df['value'] < lower_limit) | (df['value'] > upper_limit)]\n",
    "print(outliers)"
   ]
  },
  {
   "cell_type": "code",
   "execution_count": 90,
   "id": "e0b20914",
   "metadata": {},
   "outputs": [
    {
     "name": "stdout",
     "output_type": "stream",
     "text": [
      "476527220\n",
      "0\n"
     ]
    }
   ],
   "source": [
    "print(df['value'].max())\n",
    "print(df['value'].min())\n"
   ]
  },
  {
   "cell_type": "code",
   "execution_count": 91,
   "id": "c87adbb6",
   "metadata": {},
   "outputs": [
    {
     "name": "stdout",
     "output_type": "stream",
     "text": [
      "['Andhra Pradesh' 'Assam' 'Bihar' 'Delhi' 'Gujarat' 'Haryana'\n",
      " 'Himachal Pradesh' 'Jammu and Kashmir' 'Karnataka' 'Kerala' 'Kolkata'\n",
      " 'Madhya Pradesh' 'Maharashtra' 'Mumbai' 'North East' 'Odisha' 'Punjab'\n",
      " 'Rajasthan' 'Tamil Nadu' 'Uttar Pradesh (East)' 'Uttar Pradesh (West)'\n",
      " 'West Bengal' 'All India' 'All india' 'Tamil Nadu (including Chennai)'\n",
      " 'Chennai' 'Andaman and Nicobar Islands' 'Arunachal Pradesh'\n",
      " 'Chhattisgarh' 'Jharkhand' 'Uttarakhand' 'North East 1' 'North East 2'\n",
      " 'North East2' 'North East1' 'Chattisgarh' 'Andaman and Nicobar'\n",
      " 'Uttaranchal']\n"
     ]
    }
   ],
   "source": [
    "print(df['circle'].unique())"
   ]
  },
  {
   "cell_type": "markdown",
   "id": "70744044",
   "metadata": {},
   "source": [
    "In telecom data, “North East 1” and “North East 2” are separate circles covering different states. They may appear multiple times because your dataset likely has different types of connections (e.g., Wireless, Wireline, Prepaid, Postpaid).\n",
    "\n",
    "How to Work with Them\n",
    "\n",
    "You have four “types” — probably something like:\n",
    "\n",
    "Wireless Prepaid\n",
    "\n",
    "Wireless Postpaid\n",
    "\n",
    "Wireline\n",
    "\n",
    "Others\n",
    "\n",
    "Each type will have its own subscriber counts for North East 1 and North East 2."
   ]
  },
  {
   "cell_type": "markdown",
   "id": "518c5ca7",
   "metadata": {},
   "source": [
    "It’s a pre-calculated total of subscriber counts across all circles for that particular month/type.\n",
    "\n",
    "Telecom datasets often include “All India” so analysts don’t have to sum each circle manually every time.\n",
    "\n",
    "2How It’s Calculated\n",
    "\n",
    "For example, if you have:\n",
    "\n",
    "circle\t          type\t    value\n",
    "\n",
    "Punjab\t         Wireless\t1000\n",
    "\n",
    "Delhi\t         Wireless\t2000\n",
    "\n",
    "North East 1\t Wireless\t500\n",
    "\n",
    "All India\t     Wireless\t3500"
   ]
  },
  {
   "cell_type": "code",
   "execution_count": 92,
   "id": "748d905d",
   "metadata": {},
   "outputs": [
    {
     "data": {
      "text/plain": [
       "circle\n",
       "All India                         3499\n",
       "Punjab                            3252\n",
       "Rajasthan                         3193\n",
       "Delhi                             3137\n",
       "Mumbai                            3134\n",
       "Gujarat                           3102\n",
       "Kolkata                           3102\n",
       "Maharashtra                       3102\n",
       "Karnataka                         3102\n",
       "Madhya Pradesh                    3099\n",
       "Uttar Pradesh (East)              3097\n",
       "Uttar Pradesh (West)              3093\n",
       "Kerala                            3075\n",
       "Andhra Pradesh                    3042\n",
       "Haryana                           3040\n",
       "Himachal Pradesh                  2976\n",
       "Odisha                            2958\n",
       "Bihar                             2951\n",
       "West Bengal                       2939\n",
       "Jammu and Kashmir                 2720\n",
       "Assam                             2716\n",
       "North East                        2705\n",
       "Tamil Nadu                        1838\n",
       "Tamil Nadu (including Chennai)    1263\n",
       "Chennai                            198\n",
       "Jharkhand                           64\n",
       "Arunachal Pradesh                   60\n",
       "Andaman and Nicobar Islands         60\n",
       "Chhattisgarh                        60\n",
       "Uttarakhand                         60\n",
       "North East 2                        33\n",
       "North East 1                        33\n",
       "Chattisgarh                          8\n",
       "All india                            7\n",
       "Uttaranchal                          4\n",
       "Andaman and Nicobar                  4\n",
       "North East2                          1\n",
       "North East1                          1\n",
       "Name: count, dtype: int64"
      ]
     },
     "execution_count": 92,
     "metadata": {},
     "output_type": "execute_result"
    }
   ],
   "source": [
    "df['circle'].value_counts()\n"
   ]
  },
  {
   "cell_type": "markdown",
   "id": "dcfb793b",
   "metadata": {},
   "source": [
    "Remove “All India” Rows\n",
    "\n",
    "“All India” is a pre-calculated total. Keeping it will cause double counting if you sum circles manually."
   ]
  },
  {
   "cell_type": "code",
   "execution_count": 93,
   "id": "fb1f0cd7",
   "metadata": {},
   "outputs": [],
   "source": [
    "df = df[df['circle'] != 'All India']"
   ]
  },
  {
   "cell_type": "code",
   "execution_count": 94,
   "id": "97acb0c0",
   "metadata": {},
   "outputs": [],
   "source": [
    "df['circle'] = df['circle'].replace({\n",
    "    'Andaman and Nicobar': 'Andaman and Nicobar Islands'\n",
    "})\n"
   ]
  },
  {
   "cell_type": "code",
   "execution_count": 95,
   "id": "c1bfd0f1",
   "metadata": {},
   "outputs": [
    {
     "data": {
      "text/plain": [
       "year                  0\n",
       "month                 0\n",
       "circle                0\n",
       "type_of_connection    0\n",
       "service_provider      0\n",
       "value                 0\n",
       "dtype: int64"
      ]
     },
     "execution_count": 95,
     "metadata": {},
     "output_type": "execute_result"
    }
   ],
   "source": [
    "df.isnull().sum()"
   ]
  },
  {
   "cell_type": "markdown",
   "id": "aef32185",
   "metadata": {},
   "source": [
    "Combine Duplicate Circles\n",
    "\n",
    "After renaming, the same circle may appear multiple times for the same month/type. Group and sum them:"
   ]
  },
  {
   "cell_type": "code",
   "execution_count": 96,
   "id": "b9e9b7cb",
   "metadata": {},
   "outputs": [],
   "source": [
    "df['circle'] = df['circle'].fillna(\"\").replace({\n",
    "    'North East1': 'North East 1',\n",
    "    'North East2': 'North East 2'\n",
    "})\n",
    "\n",
    "df['circle'] = df['circle'].fillna(\"\").replace({\n",
    "    'Chattisgarh': 'Chhattisgarh'\n",
    "})\n",
    "\n",
    "# They are the same circle but with different names (Uttaranchal is old name).\n",
    "df['circle'] = df['circle'].replace({\n",
    "    'Uttaranchal': 'Uttarakhand'\n",
    "})\n",
    "\n",
    "\n"
   ]
  },
  {
   "cell_type": "code",
   "execution_count": 97,
   "id": "4a43e902",
   "metadata": {},
   "outputs": [
    {
     "name": "stdout",
     "output_type": "stream",
     "text": [
      "['Andhra Pradesh' 'Assam' 'Bihar' 'Delhi' 'Gujarat' 'Haryana'\n",
      " 'Himachal Pradesh' 'Jammu and Kashmir' 'Karnataka' 'Kerala' 'Kolkata'\n",
      " 'Madhya Pradesh' 'Maharashtra' 'Mumbai' 'North East' 'Odisha' 'Punjab'\n",
      " 'Rajasthan' 'Tamil Nadu' 'Uttar Pradesh (East)' 'Uttar Pradesh (West)'\n",
      " 'West Bengal' 'All india' 'Tamil Nadu (including Chennai)' 'Chennai'\n",
      " 'Andaman and Nicobar Islands' 'Arunachal Pradesh' 'Chhattisgarh'\n",
      " 'Jharkhand' 'Uttarakhand' 'North East 1' 'North East 2']\n"
     ]
    }
   ],
   "source": [
    "print(df['circle'].unique())"
   ]
  },
  {
   "cell_type": "code",
   "execution_count": 98,
   "id": "b41205af",
   "metadata": {},
   "outputs": [],
   "source": [
    "df = df[df['circle'] != 'Tamil Nadu (including Chennai)']"
   ]
  },
  {
   "cell_type": "code",
   "execution_count": 99,
   "id": "f80d35c3",
   "metadata": {},
   "outputs": [
    {
     "name": "stdout",
     "output_type": "stream",
     "text": [
      "['Andhra Pradesh' 'Assam' 'Bihar' 'Delhi' 'Gujarat' 'Haryana'\n",
      " 'Himachal Pradesh' 'Jammu and Kashmir' 'Karnataka' 'Kerala' 'Kolkata'\n",
      " 'Madhya Pradesh' 'Maharashtra' 'Mumbai' 'North East' 'Odisha' 'Punjab'\n",
      " 'Rajasthan' 'Tamil Nadu' 'Uttar Pradesh (East)' 'Uttar Pradesh (West)'\n",
      " 'West Bengal' 'All india' 'Chennai' 'Andaman and Nicobar Islands'\n",
      " 'Arunachal Pradesh' 'Chhattisgarh' 'Jharkhand' 'Uttarakhand'\n",
      " 'North East 1' 'North East 2']\n"
     ]
    }
   ],
   "source": [
    "print(df['circle'].unique())"
   ]
  },
  {
   "cell_type": "code",
   "execution_count": 100,
   "id": "ea27c0df",
   "metadata": {},
   "outputs": [],
   "source": [
    "df = df.groupby(['circle', 'type_of_connection', 'year', 'month', 'service_provider'], as_index=False)['value'].sum()\n"
   ]
  },
  {
   "cell_type": "code",
   "execution_count": 101,
   "id": "bf9050fb",
   "metadata": {},
   "outputs": [],
   "source": [
    "df = df[df['circle'] != 'All india']"
   ]
  },
  {
   "cell_type": "code",
   "execution_count": 102,
   "id": "352e047c",
   "metadata": {},
   "outputs": [
    {
     "name": "stdout",
     "output_type": "stream",
     "text": [
      "['Andaman and Nicobar Islands' 'Andhra Pradesh' 'Arunachal Pradesh'\n",
      " 'Assam' 'Bihar' 'Chennai' 'Chhattisgarh' 'Delhi' 'Gujarat' 'Haryana'\n",
      " 'Himachal Pradesh' 'Jammu and Kashmir' 'Jharkhand' 'Karnataka' 'Kerala'\n",
      " 'Kolkata' 'Madhya Pradesh' 'Maharashtra' 'Mumbai' 'North East'\n",
      " 'North East 1' 'North East 2' 'Odisha' 'Punjab' 'Rajasthan' 'Tamil Nadu'\n",
      " 'Uttar Pradesh (East)' 'Uttar Pradesh (West)' 'Uttarakhand' 'West Bengal']\n"
     ]
    }
   ],
   "source": [
    "print(df['circle'].unique())"
   ]
  },
  {
   "cell_type": "code",
   "execution_count": 103,
   "id": "d718c2bf",
   "metadata": {},
   "outputs": [
    {
     "data": {
      "text/html": [
       "<div>\n",
       "<style scoped>\n",
       "    .dataframe tbody tr th:only-of-type {\n",
       "        vertical-align: middle;\n",
       "    }\n",
       "\n",
       "    .dataframe tbody tr th {\n",
       "        vertical-align: top;\n",
       "    }\n",
       "\n",
       "    .dataframe thead th {\n",
       "        text-align: right;\n",
       "    }\n",
       "</style>\n",
       "<table border=\"1\" class=\"dataframe\">\n",
       "  <thead>\n",
       "    <tr style=\"text-align: right;\">\n",
       "      <th></th>\n",
       "      <th>circle</th>\n",
       "      <th>type_of_connection</th>\n",
       "      <th>year</th>\n",
       "      <th>month</th>\n",
       "      <th>service_provider</th>\n",
       "      <th>value</th>\n",
       "    </tr>\n",
       "  </thead>\n",
       "  <tbody>\n",
       "    <tr>\n",
       "      <th>7</th>\n",
       "      <td>Andaman and Nicobar Islands</td>\n",
       "      <td>wireless</td>\n",
       "      <td>2009</td>\n",
       "      <td>April</td>\n",
       "      <td>Aircel</td>\n",
       "      <td>852468</td>\n",
       "    </tr>\n",
       "    <tr>\n",
       "      <th>8</th>\n",
       "      <td>Andaman and Nicobar Islands</td>\n",
       "      <td>wireless</td>\n",
       "      <td>2009</td>\n",
       "      <td>April</td>\n",
       "      <td>BSNL</td>\n",
       "      <td>83332</td>\n",
       "    </tr>\n",
       "    <tr>\n",
       "      <th>9</th>\n",
       "      <td>Andaman and Nicobar Islands</td>\n",
       "      <td>wireless</td>\n",
       "      <td>2009</td>\n",
       "      <td>April</td>\n",
       "      <td>Bharti Airtel</td>\n",
       "      <td>852468</td>\n",
       "    </tr>\n",
       "    <tr>\n",
       "      <th>10</th>\n",
       "      <td>Andaman and Nicobar Islands</td>\n",
       "      <td>wireless</td>\n",
       "      <td>2009</td>\n",
       "      <td>April</td>\n",
       "      <td>HFCL Infotel</td>\n",
       "      <td>852468</td>\n",
       "    </tr>\n",
       "    <tr>\n",
       "      <th>11</th>\n",
       "      <td>Andaman and Nicobar Islands</td>\n",
       "      <td>wireless</td>\n",
       "      <td>2009</td>\n",
       "      <td>April</td>\n",
       "      <td>Idea</td>\n",
       "      <td>852468</td>\n",
       "    </tr>\n",
       "  </tbody>\n",
       "</table>\n",
       "</div>"
      ],
      "text/plain": [
       "                         circle type_of_connection  year  month  \\\n",
       "7   Andaman and Nicobar Islands           wireless  2009  April   \n",
       "8   Andaman and Nicobar Islands           wireless  2009  April   \n",
       "9   Andaman and Nicobar Islands           wireless  2009  April   \n",
       "10  Andaman and Nicobar Islands           wireless  2009  April   \n",
       "11  Andaman and Nicobar Islands           wireless  2009  April   \n",
       "\n",
       "   service_provider   value  \n",
       "7            Aircel  852468  \n",
       "8              BSNL   83332  \n",
       "9     Bharti Airtel  852468  \n",
       "10     HFCL Infotel  852468  \n",
       "11             Idea  852468  "
      ]
     },
     "execution_count": 103,
     "metadata": {},
     "output_type": "execute_result"
    }
   ],
   "source": [
    "df.head()"
   ]
  },
  {
   "cell_type": "code",
   "execution_count": 104,
   "id": "b9254733",
   "metadata": {},
   "outputs": [
    {
     "data": {
      "text/plain": [
       "circle                0\n",
       "type_of_connection    0\n",
       "year                  0\n",
       "month                 0\n",
       "service_provider      0\n",
       "value                 0\n",
       "dtype: int64"
      ]
     },
     "execution_count": 104,
     "metadata": {},
     "output_type": "execute_result"
    }
   ],
   "source": [
    "df.isnull().sum()"
   ]
  },
  {
   "cell_type": "code",
   "execution_count": 105,
   "id": "7523556e",
   "metadata": {},
   "outputs": [
    {
     "name": "stdout",
     "output_type": "stream",
     "text": [
      "Empty DataFrame\n",
      "Columns: [circle, type_of_connection, year, month, service_provider, value]\n",
      "Index: []\n"
     ]
    }
   ],
   "source": [
    "duplicate_rows = df[df.duplicated()]\n",
    "print(duplicate_rows)\n"
   ]
  },
  {
   "cell_type": "code",
   "execution_count": 106,
   "id": "87562c74",
   "metadata": {},
   "outputs": [
    {
     "name": "stdout",
     "output_type": "stream",
     "text": [
      "                            circle type_of_connection  year  month  \\\n",
      "7      Andaman and Nicobar Islands           wireless  2009  April   \n",
      "8      Andaman and Nicobar Islands           wireless  2009  April   \n",
      "9      Andaman and Nicobar Islands           wireless  2009  April   \n",
      "10     Andaman and Nicobar Islands           wireless  2009  April   \n",
      "11     Andaman and Nicobar Islands           wireless  2009  April   \n",
      "...                            ...                ...   ...    ...   \n",
      "65909                  West Bengal           wireline  2025  March   \n",
      "65910                  West Bengal           wireline  2025  March   \n",
      "65911                  West Bengal           wireline  2025  March   \n",
      "65912                  West Bengal           wireline  2025  March   \n",
      "65913                  West Bengal           wireline  2025  March   \n",
      "\n",
      "              service_provider   value  \n",
      "7                       Aircel  852468  \n",
      "8                         BSNL   83332  \n",
      "9                Bharti Airtel  852468  \n",
      "10                HFCL Infotel  852468  \n",
      "11                        Idea  852468  \n",
      "...                        ...     ...  \n",
      "65909  Reliance Communications      21  \n",
      "65910             Reliance Jio  290807  \n",
      "65911                     STPL       0  \n",
      "65912   Tata Telecommunication    2690  \n",
      "65913            Vodafone Idea     150  \n",
      "\n",
      "[65803 rows x 6 columns]\n"
     ]
    }
   ],
   "source": [
    "dup_check = df[df.duplicated(subset=['circle', 'type_of_connection', 'year', 'month'], keep=False)]\n",
    "print(dup_check.sort_values(by=['circle', 'year', 'month']))\n"
   ]
  },
  {
   "cell_type": "code",
   "execution_count": 107,
   "id": "a7762f58",
   "metadata": {},
   "outputs": [
    {
     "name": "stdout",
     "output_type": "stream",
     "text": [
      "Tamil Nadu total: 6456755675\n",
      "Chennai total: 205246937\n",
      "Tamil Nadu (including Chennai) total: 0\n",
      "Sum of Tamil Nadu + Chennai: 6662002612\n",
      "Difference: -6662002612\n"
     ]
    }
   ],
   "source": [
    "tamil_nadu_total = df[df['circle'] == 'Tamil Nadu']['value'].sum()\n",
    "print(\"Tamil Nadu total:\", tamil_nadu_total)\n",
    "\n",
    "chennai_total = df[df['circle'] == 'Chennai']['value'].sum()\n",
    "print(\"Chennai total:\", chennai_total)\n",
    "\n",
    "tn_incl_chennai_total = df[df['circle'] == 'Tamil Nadu (including Chennai)']['value'].sum()\n",
    "print(\"Tamil Nadu (including Chennai) total:\", tn_incl_chennai_total)\n",
    "\n",
    "print(\"Sum of Tamil Nadu + Chennai:\", tamil_nadu_total + chennai_total)\n",
    "print(\"Difference:\", tn_incl_chennai_total - (tamil_nadu_total + chennai_total))\n"
   ]
  },
  {
   "cell_type": "code",
   "execution_count": 108,
   "id": "a6eb5a45",
   "metadata": {},
   "outputs": [
    {
     "name": "stdout",
     "output_type": "stream",
     "text": [
      "circle                object\n",
      "type_of_connection    object\n",
      "year                   int64\n",
      "month                 object\n",
      "service_provider      object\n",
      "value                  int64\n",
      "dtype: object\n"
     ]
    }
   ],
   "source": [
    "print(df.dtypes)\n"
   ]
  },
  {
   "cell_type": "code",
   "execution_count": 109,
   "id": "fb671359",
   "metadata": {},
   "outputs": [
    {
     "data": {
      "text/plain": [
       "array(['Aircel', 'BSNL', 'Bharti Airtel', 'HFCL Infotel', 'Idea',\n",
       "       'Loop Telecom Pvt. Ltd.', 'MTNL', 'Reliance Communications',\n",
       "       'Sistema Shyam Teleservices Ltd', 'Spice', 'Tata Teleservices',\n",
       "       'Vodafone Essar', 'BPL Mobile', 'S-Tel', 'Uninor',\n",
       "       'Aircel/Dishnet', 'Etisalat/Allianz', 'HFCL', 'Loop', 'Sistema',\n",
       "       'Unitech', 'Videocon', 'Vodafone', 'Idea/Spice', 'Etisalat',\n",
       "       'Quadrant (HFCL)', 'Quadrant', 'Telewings', 'Telenor',\n",
       "       'Reliance Jio', 'BSNL (VNOs)', 'Vodafone Idea',\n",
       "       'Bharti Airtel (Including Tata Tele.)', 'Reliance', 'Tata',\n",
       "       'Tata Telecommunication',\n",
       "       'Bharti Airtel (including Tata Telecommunications)', 'APSFL',\n",
       "       'V-CON Mobile & Infra Pvt. Ltd.', 'STPL',\n",
       "       'Systema Shyam Teleservices Ltd.', 'Teleservice Ltd.'],\n",
       "      dtype=object)"
      ]
     },
     "execution_count": 109,
     "metadata": {},
     "output_type": "execute_result"
    }
   ],
   "source": [
    "df['service_provider'].unique()"
   ]
  },
  {
   "cell_type": "code",
   "execution_count": 110,
   "id": "a7ed5fe7",
   "metadata": {},
   "outputs": [],
   "source": [
    "df['service_provider'] = df['service_provider'].replace({\n",
    "    'Bharti Airtel': 'Airtel',\n",
    "    'Bharti Airtel (Including Tata Tele.)': 'Airtel',\n",
    "    'Bharti Airtel (including Tata Telecommunications)': 'Airtel',\n",
    "    'Vodafone Essar': 'Vodafone-Idea',\n",
    "    'Vodafone': 'Vodafone-Idea',\n",
    "    'Idea': 'Vodafone-Idea',\n",
    "    'Idea/Spice': 'Vodafone-Idea',\n",
    "    'Vodafone Idea': 'Vodafone-Idea',\n",
    "    'Reliance Communications': 'Reliance',\n",
    "    'Reliance Jio': 'Jio',\n",
    "    'Tata': 'Tata Tele',\n",
    "    'Tata Telecommunication': 'Tata Tele',\n",
    "    'Teleservice Ltd.': 'Tata Tele',\n",
    "    'Sistema Shyam Teleservices Ltd': 'Sistema',\n",
    "    'Sistema': 'Sistema',\n",
    "    'HFCL Infotel': 'HFCL',\n",
    "    'Loop Telecom Pvt. Ltd.': 'Loop',\n",
    "    'STPL': 'Loop',\n",
    "    'V-CON Mobile & Infra Pvt. Ltd.': 'V-CON',\n",
    "    'S-Tel': 'STel'\n",
    "})\n"
   ]
  },
  {
   "cell_type": "code",
   "execution_count": 111,
   "id": "eb2f4ec2",
   "metadata": {},
   "outputs": [],
   "source": [
    "df['service_provider'] = df['service_provider'].replace({\n",
    "    'Bharti Airtel': 'Airtel',\n",
    "    'Bharti Airtel (Including Tata Tele.)': 'Airtel',\n",
    "    'Bharti Airtel (including Tata Telecommunications)': 'Airtel',\n",
    "    'Vodafone Essar': 'Vodafone-Idea',\n",
    "    'Vodafone': 'Vodafone-Idea',\n",
    "    'Idea': 'Vodafone-Idea',\n",
    "    'Idea/Spice': 'Vodafone-Idea',\n",
    "    'Reliance Communications': 'Reliance',\n",
    "    'Reliance Jio': 'Jio',\n",
    "    'Tata': 'Tata Tele',\n",
    "    'Tata Telecommunication': 'Tata Tele',\n",
    "    'Tata Telecommunication Services': 'Tata Tele',\n",
    "    'Teleservice Ltd.': 'Tata Tele',\n",
    "    'Sistema Shyam Teleservices Ltd': 'Sistema',\n",
    "    'Sistema': 'Sistema',\n",
    "    'Systema Shyam Teleservices Ltd.': 'Sistema',\n",
    "    'HFCL Infotel': 'HFCL',\n",
    "    'Loop Telecom Pvt. Ltd.': 'Loop',\n",
    "    'STPL': 'Loop',\n",
    "    'V-CON Mobile & Infra Pvt. Ltd.': 'V-CON',\n",
    "    'S-Tel': 'STel',\n",
    "    'BSNL (VNOs)': 'BSNL'\n",
    "})\n"
   ]
  },
  {
   "cell_type": "code",
   "execution_count": 112,
   "id": "6381df86",
   "metadata": {},
   "outputs": [
    {
     "data": {
      "text/plain": [
       "array(['Aircel', 'BSNL', 'Airtel', 'HFCL', 'Vodafone-Idea', 'Loop',\n",
       "       'MTNL', 'Reliance', 'Sistema', 'Spice', 'Tata Teleservices',\n",
       "       'BPL Mobile', 'STel', 'Uninor', 'Aircel/Dishnet',\n",
       "       'Etisalat/Allianz', 'Unitech', 'Videocon', 'Etisalat',\n",
       "       'Quadrant (HFCL)', 'Quadrant', 'Telewings', 'Telenor', 'Jio',\n",
       "       'Tata Tele', 'APSFL', 'V-CON'], dtype=object)"
      ]
     },
     "execution_count": 112,
     "metadata": {},
     "output_type": "execute_result"
    }
   ],
   "source": [
    "df['service_provider'].unique()"
   ]
  },
  {
   "cell_type": "code",
   "execution_count": 113,
   "id": "c50b9427",
   "metadata": {},
   "outputs": [],
   "source": [
    "def get_technology(row):\n",
    "    year = row['year']\n",
    "    provider = str(row['service_provider']).lower()\n",
    "\n",
    "    if provider == 'bsnl':\n",
    "        if year >= 2018:\n",
    "            return '4G'\n",
    "        elif year >= 2008:\n",
    "            return '3G'\n",
    "        else:\n",
    "            return '2G'\n",
    "\n",
    "    elif provider in ['airtel', 'jio', 'vodafone-idea', 'vi']:\n",
    "        if year >= 2022:\n",
    "            return '5G'\n",
    "        elif year >= 2016:\n",
    "            return '4G'\n",
    "        elif year >= 2008:\n",
    "            return '3G'\n",
    "        else:\n",
    "            return '2G'\n",
    "\n",
    "    else:  # Other providers\n",
    "        if year >= 2016:\n",
    "            return '4G'\n",
    "        elif year >= 2008:\n",
    "            return '3G'\n",
    "        else:\n",
    "            return '2G'\n",
    "\n",
    "df['technology'] = df.apply(get_technology, axis=1)\n"
   ]
  },
  {
   "cell_type": "code",
   "execution_count": 114,
   "id": "299e40f6",
   "metadata": {},
   "outputs": [
    {
     "data": {
      "text/plain": [
       "Index(['circle', 'type_of_connection', 'year', 'month', 'service_provider',\n",
       "       'value', 'technology'],\n",
       "      dtype='object')"
      ]
     },
     "execution_count": 114,
     "metadata": {},
     "output_type": "execute_result"
    }
   ],
   "source": [
    "df.columns"
   ]
  },
  {
   "cell_type": "code",
   "execution_count": 115,
   "id": "f04b9c10",
   "metadata": {},
   "outputs": [
    {
     "data": {
      "text/html": [
       "<div>\n",
       "<style scoped>\n",
       "    .dataframe tbody tr th:only-of-type {\n",
       "        vertical-align: middle;\n",
       "    }\n",
       "\n",
       "    .dataframe tbody tr th {\n",
       "        vertical-align: top;\n",
       "    }\n",
       "\n",
       "    .dataframe thead th {\n",
       "        text-align: right;\n",
       "    }\n",
       "</style>\n",
       "<table border=\"1\" class=\"dataframe\">\n",
       "  <thead>\n",
       "    <tr style=\"text-align: right;\">\n",
       "      <th></th>\n",
       "      <th>circle</th>\n",
       "      <th>type_of_connection</th>\n",
       "      <th>year</th>\n",
       "      <th>month</th>\n",
       "      <th>service_provider</th>\n",
       "      <th>value</th>\n",
       "      <th>technology</th>\n",
       "    </tr>\n",
       "  </thead>\n",
       "  <tbody>\n",
       "    <tr>\n",
       "      <th>65909</th>\n",
       "      <td>West Bengal</td>\n",
       "      <td>wireline</td>\n",
       "      <td>2025</td>\n",
       "      <td>March</td>\n",
       "      <td>Reliance</td>\n",
       "      <td>21</td>\n",
       "      <td>4G</td>\n",
       "    </tr>\n",
       "    <tr>\n",
       "      <th>65910</th>\n",
       "      <td>West Bengal</td>\n",
       "      <td>wireline</td>\n",
       "      <td>2025</td>\n",
       "      <td>March</td>\n",
       "      <td>Jio</td>\n",
       "      <td>290807</td>\n",
       "      <td>5G</td>\n",
       "    </tr>\n",
       "    <tr>\n",
       "      <th>65911</th>\n",
       "      <td>West Bengal</td>\n",
       "      <td>wireline</td>\n",
       "      <td>2025</td>\n",
       "      <td>March</td>\n",
       "      <td>Loop</td>\n",
       "      <td>0</td>\n",
       "      <td>4G</td>\n",
       "    </tr>\n",
       "    <tr>\n",
       "      <th>65912</th>\n",
       "      <td>West Bengal</td>\n",
       "      <td>wireline</td>\n",
       "      <td>2025</td>\n",
       "      <td>March</td>\n",
       "      <td>Tata Tele</td>\n",
       "      <td>2690</td>\n",
       "      <td>4G</td>\n",
       "    </tr>\n",
       "    <tr>\n",
       "      <th>65913</th>\n",
       "      <td>West Bengal</td>\n",
       "      <td>wireline</td>\n",
       "      <td>2025</td>\n",
       "      <td>March</td>\n",
       "      <td>Vodafone-Idea</td>\n",
       "      <td>150</td>\n",
       "      <td>5G</td>\n",
       "    </tr>\n",
       "  </tbody>\n",
       "</table>\n",
       "</div>"
      ],
      "text/plain": [
       "            circle type_of_connection  year  month service_provider   value  \\\n",
       "65909  West Bengal           wireline  2025  March         Reliance      21   \n",
       "65910  West Bengal           wireline  2025  March              Jio  290807   \n",
       "65911  West Bengal           wireline  2025  March             Loop       0   \n",
       "65912  West Bengal           wireline  2025  March        Tata Tele    2690   \n",
       "65913  West Bengal           wireline  2025  March    Vodafone-Idea     150   \n",
       "\n",
       "      technology  \n",
       "65909         4G  \n",
       "65910         5G  \n",
       "65911         4G  \n",
       "65912         4G  \n",
       "65913         5G  "
      ]
     },
     "execution_count": 115,
     "metadata": {},
     "output_type": "execute_result"
    }
   ],
   "source": [
    "df.tail()"
   ]
  },
  {
   "cell_type": "code",
   "execution_count": 116,
   "id": "6ba63eae",
   "metadata": {},
   "outputs": [],
   "source": [
    "df.to_csv('telecom_cleaned.csv')"
   ]
  }
 ],
 "metadata": {
  "kernelspec": {
   "display_name": ".venv (3.13.7)",
   "language": "python",
   "name": "python3"
  },
  "language_info": {
   "codemirror_mode": {
    "name": "ipython",
    "version": 3
   },
   "file_extension": ".py",
   "mimetype": "text/x-python",
   "name": "python",
   "nbconvert_exporter": "python",
   "pygments_lexer": "ipython3",
   "version": "3.13.7"
  }
 },
 "nbformat": 4,
 "nbformat_minor": 5
}
