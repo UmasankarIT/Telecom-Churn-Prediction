{
 "cells": [
  {
   "cell_type": "code",
   "execution_count": 1,
   "id": "d32798d0",
   "metadata": {},
   "outputs": [],
   "source": [
    "import pandas as pd\n",
    "import matplotlib.pyplot as plt \n",
    "\n",
    "df = pd.read_csv('telecom_cleaned.csv')"
   ]
  },
  {
   "cell_type": "code",
   "execution_count": 2,
   "id": "e2f3b28b",
   "metadata": {},
   "outputs": [
    {
     "data": {
      "text/plain": [
       "Index(['circle', 'type_of_connection', 'year', 'month', 'service_provider',\n",
       "       'value', 'technology'],\n",
       "      dtype='object')"
      ]
     },
     "execution_count": 2,
     "metadata": {},
     "output_type": "execute_result"
    }
   ],
   "source": [
    "df.columns"
   ]
  },
  {
   "cell_type": "code",
   "execution_count": 3,
   "id": "f40778b9",
   "metadata": {},
   "outputs": [
    {
     "name": "stdout",
     "output_type": "stream",
     "text": [
      "                        circle type_of_connection  year  month  \\\n",
      "0  Andaman and Nicobar Islands           wireless  2009  April   \n",
      "1  Andaman and Nicobar Islands           wireless  2009  April   \n",
      "2  Andaman and Nicobar Islands           wireless  2009  April   \n",
      "3  Andaman and Nicobar Islands           wireless  2009  April   \n",
      "4  Andaman and Nicobar Islands           wireless  2009  April   \n",
      "\n",
      "  service_provider   value technology  tech_yearly_sum      tech_avg  \\\n",
      "0           Aircel  852468         3G       7091626007  2.179738e+06   \n",
      "1             BSNL   83332         3G       7091626007  2.179738e+06   \n",
      "2           Airtel  852468         3G       7091626007  2.179738e+06   \n",
      "3             HFCL  852468         3G       7091626007  2.179738e+06   \n",
      "4    Vodafone-Idea  852468         3G       7091626007  2.179738e+06   \n",
      "\n",
      "   tech_value_diff  tech_yearly_share  technology_missing  \n",
      "0              NaN           0.000120                   0  \n",
      "1        -769136.0           0.000012                   0  \n",
      "2         769136.0           0.000120                   0  \n",
      "3              0.0           0.000120                   0  \n",
      "4              0.0           0.000120                   0  \n"
     ]
    }
   ],
   "source": [
    "\n",
    "#  Aggregate features — yearly sum for each technology :\n",
    "\n",
    "#  Groups the data by both technology and year.\n",
    "# Calculates the total subscriber value for each technology-year combination.\n",
    "\n",
    "df['tech_yearly_sum'] = df.groupby(['technology', 'year'])['value'].transform('sum')\n",
    "\n",
    "#  Average usage per technology\n",
    "df['tech_avg'] = df.groupby('technology')['value'].transform('mean')\n",
    "\n",
    "#  Difference feature — change in value from previous year\n",
    "df = df.sort_values(by=['technology', 'year'])\n",
    "df['tech_value_diff'] = df.groupby('technology')['value'].diff()\n",
    "\n",
    "#  Ratio feature — share of technology usage in yearly total\n",
    "df['tech_yearly_share'] = df['value'] / df['tech_yearly_sum']\n",
    "#  Missing value flag :\n",
    "# Checks if technology is missing (NaN).\n",
    "# Converts True → 1 and False → 0\n",
    "\n",
    "df['technology_missing'] = df['technology'].isna().astype(int)\n",
    "\n",
    "# Check results\n",
    "print(df.head())\n"
   ]
  },
  {
   "cell_type": "code",
   "execution_count": 4,
   "id": "1dc75b77",
   "metadata": {},
   "outputs": [
    {
     "data": {
      "text/plain": [
       "0         0.0\n",
       "1   -769136.0\n",
       "2    769136.0\n",
       "3         0.0\n",
       "4         0.0\n",
       "Name: tech_value_diff, dtype: float64"
      ]
     },
     "execution_count": 4,
     "metadata": {},
     "output_type": "execute_result"
    }
   ],
   "source": [
    "df['tech_value_diff'] = df['tech_value_diff'].fillna(0)\n",
    "df['tech_value_diff'].head()"
   ]
  },
  {
   "cell_type": "code",
   "execution_count": 5,
   "id": "5a5b5f62",
   "metadata": {},
   "outputs": [
    {
     "data": {
      "text/html": [
       "<div>\n",
       "<style scoped>\n",
       "    .dataframe tbody tr th:only-of-type {\n",
       "        vertical-align: middle;\n",
       "    }\n",
       "\n",
       "    .dataframe tbody tr th {\n",
       "        vertical-align: top;\n",
       "    }\n",
       "\n",
       "    .dataframe thead th {\n",
       "        text-align: right;\n",
       "    }\n",
       "</style>\n",
       "<table border=\"1\" class=\"dataframe\">\n",
       "  <thead>\n",
       "    <tr style=\"text-align: right;\">\n",
       "      <th></th>\n",
       "      <th>circle</th>\n",
       "      <th>type_of_connection</th>\n",
       "      <th>year</th>\n",
       "      <th>month</th>\n",
       "      <th>service_provider</th>\n",
       "      <th>value</th>\n",
       "      <th>technology</th>\n",
       "      <th>tech_yearly_sum</th>\n",
       "      <th>tech_avg</th>\n",
       "      <th>tech_value_diff</th>\n",
       "      <th>tech_yearly_share</th>\n",
       "      <th>technology_missing</th>\n",
       "    </tr>\n",
       "  </thead>\n",
       "  <tbody>\n",
       "    <tr>\n",
       "      <th>0</th>\n",
       "      <td>Andaman and Nicobar Islands</td>\n",
       "      <td>wireless</td>\n",
       "      <td>2009</td>\n",
       "      <td>April</td>\n",
       "      <td>Aircel</td>\n",
       "      <td>852468</td>\n",
       "      <td>3G</td>\n",
       "      <td>7091626007</td>\n",
       "      <td>2.179738e+06</td>\n",
       "      <td>0.0</td>\n",
       "      <td>0.000120</td>\n",
       "      <td>0</td>\n",
       "    </tr>\n",
       "    <tr>\n",
       "      <th>1</th>\n",
       "      <td>Andaman and Nicobar Islands</td>\n",
       "      <td>wireless</td>\n",
       "      <td>2009</td>\n",
       "      <td>April</td>\n",
       "      <td>BSNL</td>\n",
       "      <td>83332</td>\n",
       "      <td>3G</td>\n",
       "      <td>7091626007</td>\n",
       "      <td>2.179738e+06</td>\n",
       "      <td>-769136.0</td>\n",
       "      <td>0.000012</td>\n",
       "      <td>0</td>\n",
       "    </tr>\n",
       "    <tr>\n",
       "      <th>2</th>\n",
       "      <td>Andaman and Nicobar Islands</td>\n",
       "      <td>wireless</td>\n",
       "      <td>2009</td>\n",
       "      <td>April</td>\n",
       "      <td>Airtel</td>\n",
       "      <td>852468</td>\n",
       "      <td>3G</td>\n",
       "      <td>7091626007</td>\n",
       "      <td>2.179738e+06</td>\n",
       "      <td>769136.0</td>\n",
       "      <td>0.000120</td>\n",
       "      <td>0</td>\n",
       "    </tr>\n",
       "    <tr>\n",
       "      <th>3</th>\n",
       "      <td>Andaman and Nicobar Islands</td>\n",
       "      <td>wireless</td>\n",
       "      <td>2009</td>\n",
       "      <td>April</td>\n",
       "      <td>HFCL</td>\n",
       "      <td>852468</td>\n",
       "      <td>3G</td>\n",
       "      <td>7091626007</td>\n",
       "      <td>2.179738e+06</td>\n",
       "      <td>0.0</td>\n",
       "      <td>0.000120</td>\n",
       "      <td>0</td>\n",
       "    </tr>\n",
       "    <tr>\n",
       "      <th>4</th>\n",
       "      <td>Andaman and Nicobar Islands</td>\n",
       "      <td>wireless</td>\n",
       "      <td>2009</td>\n",
       "      <td>April</td>\n",
       "      <td>Vodafone-Idea</td>\n",
       "      <td>852468</td>\n",
       "      <td>3G</td>\n",
       "      <td>7091626007</td>\n",
       "      <td>2.179738e+06</td>\n",
       "      <td>0.0</td>\n",
       "      <td>0.000120</td>\n",
       "      <td>0</td>\n",
       "    </tr>\n",
       "  </tbody>\n",
       "</table>\n",
       "</div>"
      ],
      "text/plain": [
       "                        circle type_of_connection  year  month  \\\n",
       "0  Andaman and Nicobar Islands           wireless  2009  April   \n",
       "1  Andaman and Nicobar Islands           wireless  2009  April   \n",
       "2  Andaman and Nicobar Islands           wireless  2009  April   \n",
       "3  Andaman and Nicobar Islands           wireless  2009  April   \n",
       "4  Andaman and Nicobar Islands           wireless  2009  April   \n",
       "\n",
       "  service_provider   value technology  tech_yearly_sum      tech_avg  \\\n",
       "0           Aircel  852468         3G       7091626007  2.179738e+06   \n",
       "1             BSNL   83332         3G       7091626007  2.179738e+06   \n",
       "2           Airtel  852468         3G       7091626007  2.179738e+06   \n",
       "3             HFCL  852468         3G       7091626007  2.179738e+06   \n",
       "4    Vodafone-Idea  852468         3G       7091626007  2.179738e+06   \n",
       "\n",
       "   tech_value_diff  tech_yearly_share  technology_missing  \n",
       "0              0.0           0.000120                   0  \n",
       "1        -769136.0           0.000012                   0  \n",
       "2         769136.0           0.000120                   0  \n",
       "3              0.0           0.000120                   0  \n",
       "4              0.0           0.000120                   0  "
      ]
     },
     "execution_count": 5,
     "metadata": {},
     "output_type": "execute_result"
    }
   ],
   "source": [
    "df.head()"
   ]
  },
  {
   "cell_type": "code",
   "execution_count": 6,
   "id": "ee08568a",
   "metadata": {},
   "outputs": [
    {
     "data": {
      "text/html": [
       "<div>\n",
       "<style scoped>\n",
       "    .dataframe tbody tr th:only-of-type {\n",
       "        vertical-align: middle;\n",
       "    }\n",
       "\n",
       "    .dataframe tbody tr th {\n",
       "        vertical-align: top;\n",
       "    }\n",
       "\n",
       "    .dataframe thead th {\n",
       "        text-align: right;\n",
       "    }\n",
       "</style>\n",
       "<table border=\"1\" class=\"dataframe\">\n",
       "  <thead>\n",
       "    <tr style=\"text-align: right;\">\n",
       "      <th></th>\n",
       "      <th>circle</th>\n",
       "      <th>type_of_connection</th>\n",
       "      <th>year</th>\n",
       "      <th>month</th>\n",
       "      <th>service_provider</th>\n",
       "      <th>value</th>\n",
       "      <th>technology</th>\n",
       "      <th>tech_yearly_sum</th>\n",
       "      <th>tech_avg</th>\n",
       "      <th>tech_value_diff</th>\n",
       "      <th>tech_yearly_share</th>\n",
       "      <th>technology_missing</th>\n",
       "    </tr>\n",
       "  </thead>\n",
       "  <tbody>\n",
       "    <tr>\n",
       "      <th>65893</th>\n",
       "      <td>West Bengal</td>\n",
       "      <td>wireline</td>\n",
       "      <td>2025</td>\n",
       "      <td>January</td>\n",
       "      <td>Jio</td>\n",
       "      <td>279380</td>\n",
       "      <td>5G</td>\n",
       "      <td>4347862126</td>\n",
       "      <td>9.005452e+06</td>\n",
       "      <td>196084.0</td>\n",
       "      <td>6.425687e-05</td>\n",
       "      <td>0</td>\n",
       "    </tr>\n",
       "    <tr>\n",
       "      <th>65896</th>\n",
       "      <td>West Bengal</td>\n",
       "      <td>wireline</td>\n",
       "      <td>2025</td>\n",
       "      <td>January</td>\n",
       "      <td>Vodafone-Idea</td>\n",
       "      <td>150</td>\n",
       "      <td>5G</td>\n",
       "      <td>4347862126</td>\n",
       "      <td>9.005452e+06</td>\n",
       "      <td>-279230.0</td>\n",
       "      <td>3.449971e-08</td>\n",
       "      <td>0</td>\n",
       "    </tr>\n",
       "    <tr>\n",
       "      <th>65899</th>\n",
       "      <td>West Bengal</td>\n",
       "      <td>wireline</td>\n",
       "      <td>2025</td>\n",
       "      <td>March</td>\n",
       "      <td>Airtel</td>\n",
       "      <td>86815</td>\n",
       "      <td>5G</td>\n",
       "      <td>4347862126</td>\n",
       "      <td>9.005452e+06</td>\n",
       "      <td>86665.0</td>\n",
       "      <td>1.996728e-05</td>\n",
       "      <td>0</td>\n",
       "    </tr>\n",
       "    <tr>\n",
       "      <th>65903</th>\n",
       "      <td>West Bengal</td>\n",
       "      <td>wireline</td>\n",
       "      <td>2025</td>\n",
       "      <td>March</td>\n",
       "      <td>Jio</td>\n",
       "      <td>290807</td>\n",
       "      <td>5G</td>\n",
       "      <td>4347862126</td>\n",
       "      <td>9.005452e+06</td>\n",
       "      <td>203992.0</td>\n",
       "      <td>6.688506e-05</td>\n",
       "      <td>0</td>\n",
       "    </tr>\n",
       "    <tr>\n",
       "      <th>65906</th>\n",
       "      <td>West Bengal</td>\n",
       "      <td>wireline</td>\n",
       "      <td>2025</td>\n",
       "      <td>March</td>\n",
       "      <td>Vodafone-Idea</td>\n",
       "      <td>150</td>\n",
       "      <td>5G</td>\n",
       "      <td>4347862126</td>\n",
       "      <td>9.005452e+06</td>\n",
       "      <td>-290657.0</td>\n",
       "      <td>3.449971e-08</td>\n",
       "      <td>0</td>\n",
       "    </tr>\n",
       "  </tbody>\n",
       "</table>\n",
       "</div>"
      ],
      "text/plain": [
       "            circle type_of_connection  year    month service_provider   value  \\\n",
       "65893  West Bengal           wireline  2025  January              Jio  279380   \n",
       "65896  West Bengal           wireline  2025  January    Vodafone-Idea     150   \n",
       "65899  West Bengal           wireline  2025    March           Airtel   86815   \n",
       "65903  West Bengal           wireline  2025    March              Jio  290807   \n",
       "65906  West Bengal           wireline  2025    March    Vodafone-Idea     150   \n",
       "\n",
       "      technology  tech_yearly_sum      tech_avg  tech_value_diff  \\\n",
       "65893         5G       4347862126  9.005452e+06         196084.0   \n",
       "65896         5G       4347862126  9.005452e+06        -279230.0   \n",
       "65899         5G       4347862126  9.005452e+06          86665.0   \n",
       "65903         5G       4347862126  9.005452e+06         203992.0   \n",
       "65906         5G       4347862126  9.005452e+06        -290657.0   \n",
       "\n",
       "       tech_yearly_share  technology_missing  \n",
       "65893       6.425687e-05                   0  \n",
       "65896       3.449971e-08                   0  \n",
       "65899       1.996728e-05                   0  \n",
       "65903       6.688506e-05                   0  \n",
       "65906       3.449971e-08                   0  "
      ]
     },
     "execution_count": 6,
     "metadata": {},
     "output_type": "execute_result"
    }
   ],
   "source": [
    "df.tail()"
   ]
  },
  {
   "cell_type": "markdown",
   "id": "9fd32c9c",
   "metadata": {},
   "source": [
    "Lag Features"
   ]
  },
  {
   "cell_type": "code",
   "execution_count": 7,
   "id": "d8d537e6",
   "metadata": {},
   "outputs": [
    {
     "name": "stdout",
     "output_type": "stream",
     "text": [
      "                         circle type_of_connection  year     month  \\\n",
      "0   Andaman and Nicobar Islands           wireless  2009     April   \n",
      "12  Andaman and Nicobar Islands           wireless  2009  February   \n",
      "24  Andaman and Nicobar Islands           wireless  2009   January   \n",
      "36  Andaman and Nicobar Islands           wireless  2009     March   \n",
      "48  Andaman and Nicobar Islands           wireless  2009       May   \n",
      "2   Andaman and Nicobar Islands           wireless  2009     April   \n",
      "15  Andaman and Nicobar Islands           wireless  2009  February   \n",
      "27  Andaman and Nicobar Islands           wireless  2009   January   \n",
      "39  Andaman and Nicobar Islands           wireless  2009     March   \n",
      "50  Andaman and Nicobar Islands           wireless  2009       May   \n",
      "\n",
      "   service_provider   value technology  tech_yearly_sum      tech_avg  \\\n",
      "0            Aircel  852468         3G       7091626007  2.179738e+06   \n",
      "12           Aircel  852468         3G       7091626007  2.179738e+06   \n",
      "24           Aircel  852468         3G       7091626007  2.179738e+06   \n",
      "36           Aircel  852468         3G       7091626007  2.179738e+06   \n",
      "48           Aircel  852468         3G       7091626007  2.179738e+06   \n",
      "2            Airtel  852468         3G       7091626007  2.179738e+06   \n",
      "15           Airtel  852468         3G       7091626007  2.179738e+06   \n",
      "27           Airtel  852468         3G       7091626007  2.179738e+06   \n",
      "39           Airtel  852468         3G       7091626007  2.179738e+06   \n",
      "50           Airtel  852468         3G       7091626007  2.179738e+06   \n",
      "\n",
      "    tech_value_diff  tech_yearly_share  technology_missing  value_lag1  \\\n",
      "0               0.0            0.00012                   0         0.0   \n",
      "12              0.0            0.00012                   0    852468.0   \n",
      "24              0.0            0.00012                   0    852468.0   \n",
      "36              0.0            0.00012                   0    852468.0   \n",
      "48              0.0            0.00012                   0    852468.0   \n",
      "2          769136.0            0.00012                   0         0.0   \n",
      "15         776410.0            0.00012                   0    852468.0   \n",
      "27         777457.0            0.00012                   0    852468.0   \n",
      "39         772786.0            0.00012                   0    852468.0   \n",
      "50         766863.0            0.00012                   0    852468.0   \n",
      "\n",
      "    value_lag2  \n",
      "0          0.0  \n",
      "12         0.0  \n",
      "24    852468.0  \n",
      "36    852468.0  \n",
      "48    852468.0  \n",
      "2          0.0  \n",
      "15         0.0  \n",
      "27    852468.0  \n",
      "39    852468.0  \n",
      "50    852468.0  \n"
     ]
    }
   ],
   "source": [
    "\n",
    "\n",
    "# Sort data so lags are correct\n",
    "df = df.sort_values(by=['technology', 'circle', 'service_provider', 'year', 'month'])\n",
    "\n",
    "# Lag-1: previous month’s value\n",
    "df['value_lag1'] = df.groupby(['technology', 'circle', 'service_provider'])['value'].shift(1)\n",
    "\n",
    "# Lag-2: two months before\n",
    "df['value_lag2'] = df.groupby(['technology', 'circle', 'service_provider'])['value'].shift(2)\n",
    "\n",
    "# Fill missing lag values (first months) with 0\n",
    "df['value_lag1'] = df['value_lag1'].fillna(0)\n",
    "df['value_lag2'] = df['value_lag2'].fillna(0)\n",
    "\n",
    "print(df.head(10))\n"
   ]
  },
  {
   "cell_type": "code",
   "execution_count": 8,
   "id": "3b175212",
   "metadata": {},
   "outputs": [
    {
     "data": {
      "text/plain": [
       "Index(['circle', 'type_of_connection', 'year', 'month', 'service_provider',\n",
       "       'value', 'technology', 'tech_yearly_sum', 'tech_avg', 'tech_value_diff',\n",
       "       'tech_yearly_share', 'technology_missing', 'value_lag1', 'value_lag2'],\n",
       "      dtype='object')"
      ]
     },
     "execution_count": 8,
     "metadata": {},
     "output_type": "execute_result"
    }
   ],
   "source": [
    "df.columns "
   ]
  },
  {
   "cell_type": "code",
   "execution_count": 9,
   "id": "3418664b",
   "metadata": {},
   "outputs": [
    {
     "data": {
      "text/plain": [
       "Index(['circle', 'type_of_connection', 'year', 'month', 'service_provider',\n",
       "       'value', 'technology', 'tech_yearly_sum', 'tech_avg', 'tech_value_diff',\n",
       "       'tech_yearly_share', 'technology_missing', 'value_lag1', 'value_lag2'],\n",
       "      dtype='object')"
      ]
     },
     "execution_count": 9,
     "metadata": {},
     "output_type": "execute_result"
    }
   ],
   "source": [
    "df.columns"
   ]
  },
  {
   "cell_type": "code",
   "execution_count": 10,
   "id": "dc03126c",
   "metadata": {},
   "outputs": [],
   "source": [
    "df.to_csv(\"telecom_feature_engineered.csv\")"
   ]
  }
 ],
 "metadata": {
  "kernelspec": {
   "display_name": ".venv (3.13.7)",
   "language": "python",
   "name": "python3"
  },
  "language_info": {
   "codemirror_mode": {
    "name": "ipython",
    "version": 3
   },
   "file_extension": ".py",
   "mimetype": "text/x-python",
   "name": "python",
   "nbconvert_exporter": "python",
   "pygments_lexer": "ipython3",
   "version": "3.13.7"
  }
 },
 "nbformat": 4,
 "nbformat_minor": 5
}
