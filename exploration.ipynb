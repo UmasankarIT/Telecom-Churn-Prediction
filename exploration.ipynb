{
 "cells": [
  {
   "cell_type": "markdown",
   "id": "b329d8f5",
   "metadata": {},
   "source": [
    "DATA EXPLORATION"
   ]
  },
  {
   "cell_type": "code",
   "execution_count": 6,
   "id": "48347e93",
   "metadata": {},
   "outputs": [],
   "source": [
    "import warnings\n",
    "warnings.filterwarnings(\"ignore\")"
   ]
  },
  {
   "cell_type": "code",
   "execution_count": 7,
   "id": "8848f0fa",
   "metadata": {},
   "outputs": [],
   "source": [
    "import pandas as pd\n",
    "\n",
    "df = pd.read_csv(\"raw.csv\")"
   ]
  },
  {
   "cell_type": "code",
   "execution_count": 21,
   "id": "792e8cba",
   "metadata": {},
   "outputs": [
    {
     "data": {
      "text/plain": [
       "year                   int64\n",
       "month                 object\n",
       "circle                object\n",
       "type_of_connection    object\n",
       "service_provider      object\n",
       "value                 object\n",
       "unit                  object\n",
       "notes                 object\n",
       "dtype: object"
      ]
     },
     "execution_count": 21,
     "metadata": {},
     "output_type": "execute_result"
    }
   ],
   "source": [
    "df.dtypes"
   ]
  },
  {
   "cell_type": "code",
   "execution_count": 14,
   "id": "45a2507f",
   "metadata": {},
   "outputs": [
    {
     "data": {
      "text/plain": [
       "70728"
      ]
     },
     "execution_count": 14,
     "metadata": {},
     "output_type": "execute_result"
    }
   ],
   "source": [
    "len(df)"
   ]
  },
  {
   "cell_type": "code",
   "execution_count": 22,
   "id": "95bab039",
   "metadata": {},
   "outputs": [
    {
     "data": {
      "text/plain": [
       "['year',\n",
       " 'month',\n",
       " 'circle',\n",
       " 'type_of_connection',\n",
       " 'service_provider',\n",
       " 'value',\n",
       " 'unit',\n",
       " 'notes']"
      ]
     },
     "execution_count": 22,
     "metadata": {},
     "output_type": "execute_result"
    }
   ],
   "source": [
    "df.columns.tolist()"
   ]
  },
  {
   "cell_type": "code",
   "execution_count": 8,
   "id": "9c798217",
   "metadata": {},
   "outputs": [
    {
     "name": "stdout",
     "output_type": "stream",
     "text": [
      "<class 'pandas.core.frame.DataFrame'>\n",
      "RangeIndex: 70728 entries, 0 to 70727\n",
      "Data columns (total 8 columns):\n",
      " #   Column              Non-Null Count  Dtype \n",
      "---  ------              --------------  ----- \n",
      " 0   year                70728 non-null  int64 \n",
      " 1   month               70728 non-null  object\n",
      " 2   circle              70728 non-null  object\n",
      " 3   type_of_connection  70728 non-null  object\n",
      " 4   service_provider    70728 non-null  object\n",
      " 5   value               58396 non-null  object\n",
      " 6   unit                70728 non-null  object\n",
      " 7   notes               511 non-null    object\n",
      "dtypes: int64(1), object(7)\n",
      "memory usage: 4.3+ MB\n"
     ]
    }
   ],
   "source": [
    "df.info()"
   ]
  },
  {
   "cell_type": "code",
   "execution_count": 19,
   "id": "e9406e0a",
   "metadata": {},
   "outputs": [
    {
     "name": "stdout",
     "output_type": "stream",
     "text": [
      "2025\n",
      "2009\n"
     ]
    }
   ],
   "source": [
    "print(df['year'].max())\n",
    "print(df['year'].min())"
   ]
  },
  {
   "cell_type": "code",
   "execution_count": 23,
   "id": "e595e977",
   "metadata": {},
   "outputs": [
    {
     "name": "stdout",
     "output_type": "stream",
     "text": [
      "Unique operators: 42\n"
     ]
    }
   ],
   "source": [
    "print(f\"Unique operators: {df['service_provider'].nunique()}\")"
   ]
  },
  {
   "cell_type": "code",
   "execution_count": 24,
   "id": "7a1924c7",
   "metadata": {},
   "outputs": [
    {
     "name": "stdout",
     "output_type": "stream",
     "text": [
      "Date range: 2009 - 2025\n"
     ]
    }
   ],
   "source": [
    "print(f\"Date range: {df['year'].min()} - {df['year'].max()}\")"
   ]
  },
  {
   "cell_type": "code",
   "execution_count": 28,
   "id": "882918f8",
   "metadata": {},
   "outputs": [
    {
     "name": "stdout",
     "output_type": "stream",
     "text": [
      "Unique circles: 38\n"
     ]
    }
   ],
   "source": [
    "print(f\"Unique circles: {df['circle'].nunique()}\")"
   ]
  },
  {
   "cell_type": "code",
   "execution_count": 29,
   "id": "6c4d7130",
   "metadata": {},
   "outputs": [
    {
     "name": "stdout",
     "output_type": "stream",
     "text": [
      "Unique circles: ['Andhra Pradesh' 'Assam' 'Bihar' 'Delhi' 'Gujarat' 'Haryana'\n",
      " 'Himachal Pradesh' 'Jammu and Kashmir' 'Karnataka' 'Kerala' 'Kolkata'\n",
      " 'Madhya Pradesh' 'Maharashtra' 'Mumbai' 'North East' 'Odisha' 'Punjab'\n",
      " 'Rajasthan' 'Tamil Nadu' 'Uttar Pradesh (East)' 'Uttar Pradesh (West)'\n",
      " 'West Bengal' 'All India' 'All india' 'Tamil Nadu (including Chennai)'\n",
      " 'Chennai' 'Andaman and Nicobar Islands' 'Arunachal Pradesh'\n",
      " 'Chhattisgarh' 'Jharkhand' 'Uttarakhand' 'North East 1' 'North East 2'\n",
      " 'North East2' 'North East1' 'Chattisgarh' 'Andaman and Nicobar'\n",
      " 'Uttaranchal']\n"
     ]
    }
   ],
   "source": [
    "print(f\"Unique circles: {df['circle'].unique()}\")"
   ]
  },
  {
   "cell_type": "code",
   "execution_count": 30,
   "id": "2bf43f25",
   "metadata": {},
   "outputs": [
    {
     "data": {
      "text/plain": [
       "year                     17\n",
       "month                    12\n",
       "circle                   38\n",
       "type_of_connection        2\n",
       "service_provider         42\n",
       "value                 47600\n",
       "unit                      1\n",
       "notes                    69\n",
       "dtype: int64"
      ]
     },
     "execution_count": 30,
     "metadata": {},
     "output_type": "execute_result"
    }
   ],
   "source": [
    "df.nunique()"
   ]
  },
  {
   "cell_type": "code",
   "execution_count": 9,
   "id": "726bf829",
   "metadata": {},
   "outputs": [
    {
     "data": {
      "text/html": [
       "<div>\n",
       "<style scoped>\n",
       "    .dataframe tbody tr th:only-of-type {\n",
       "        vertical-align: middle;\n",
       "    }\n",
       "\n",
       "    .dataframe tbody tr th {\n",
       "        vertical-align: top;\n",
       "    }\n",
       "\n",
       "    .dataframe thead th {\n",
       "        text-align: right;\n",
       "    }\n",
       "</style>\n",
       "<table border=\"1\" class=\"dataframe\">\n",
       "  <thead>\n",
       "    <tr style=\"text-align: right;\">\n",
       "      <th></th>\n",
       "      <th>year</th>\n",
       "      <th>month</th>\n",
       "      <th>circle</th>\n",
       "      <th>type_of_connection</th>\n",
       "      <th>service_provider</th>\n",
       "      <th>value</th>\n",
       "      <th>unit</th>\n",
       "      <th>notes</th>\n",
       "    </tr>\n",
       "  </thead>\n",
       "  <tbody>\n",
       "    <tr>\n",
       "      <th>0</th>\n",
       "      <td>2025</td>\n",
       "      <td>April</td>\n",
       "      <td>Andhra Pradesh</td>\n",
       "      <td>wireless</td>\n",
       "      <td>Bharti Airtel (Including Tata Tele.)</td>\n",
       "      <td>33965795</td>\n",
       "      <td>value in absolute number</td>\n",
       "      <td>NaN</td>\n",
       "    </tr>\n",
       "    <tr>\n",
       "      <th>1</th>\n",
       "      <td>2025</td>\n",
       "      <td>April</td>\n",
       "      <td>Assam</td>\n",
       "      <td>wireless</td>\n",
       "      <td>Bharti Airtel (Including Tata Tele.)</td>\n",
       "      <td>12314102</td>\n",
       "      <td>value in absolute number</td>\n",
       "      <td>NaN</td>\n",
       "    </tr>\n",
       "    <tr>\n",
       "      <th>2</th>\n",
       "      <td>2025</td>\n",
       "      <td>April</td>\n",
       "      <td>Bihar</td>\n",
       "      <td>wireless</td>\n",
       "      <td>Bharti Airtel (Including Tata Tele.)</td>\n",
       "      <td>40967773</td>\n",
       "      <td>value in absolute number</td>\n",
       "      <td>NaN</td>\n",
       "    </tr>\n",
       "    <tr>\n",
       "      <th>3</th>\n",
       "      <td>2025</td>\n",
       "      <td>April</td>\n",
       "      <td>Delhi</td>\n",
       "      <td>wireless</td>\n",
       "      <td>Bharti Airtel (Including Tata Tele.)</td>\n",
       "      <td>18877637</td>\n",
       "      <td>value in absolute number</td>\n",
       "      <td>NaN</td>\n",
       "    </tr>\n",
       "    <tr>\n",
       "      <th>4</th>\n",
       "      <td>2025</td>\n",
       "      <td>April</td>\n",
       "      <td>Gujarat</td>\n",
       "      <td>wireless</td>\n",
       "      <td>Bharti Airtel (Including Tata Tele.)</td>\n",
       "      <td>12401101</td>\n",
       "      <td>value in absolute number</td>\n",
       "      <td>NaN</td>\n",
       "    </tr>\n",
       "  </tbody>\n",
       "</table>\n",
       "</div>"
      ],
      "text/plain": [
       "   year  month          circle type_of_connection  \\\n",
       "0  2025  April  Andhra Pradesh           wireless   \n",
       "1  2025  April           Assam           wireless   \n",
       "2  2025  April           Bihar           wireless   \n",
       "3  2025  April           Delhi           wireless   \n",
       "4  2025  April         Gujarat           wireless   \n",
       "\n",
       "                       service_provider     value                      unit  \\\n",
       "0  Bharti Airtel (Including Tata Tele.)  33965795  value in absolute number   \n",
       "1  Bharti Airtel (Including Tata Tele.)  12314102  value in absolute number   \n",
       "2  Bharti Airtel (Including Tata Tele.)  40967773  value in absolute number   \n",
       "3  Bharti Airtel (Including Tata Tele.)  18877637  value in absolute number   \n",
       "4  Bharti Airtel (Including Tata Tele.)  12401101  value in absolute number   \n",
       "\n",
       "  notes  \n",
       "0   NaN  \n",
       "1   NaN  \n",
       "2   NaN  \n",
       "3   NaN  \n",
       "4   NaN  "
      ]
     },
     "execution_count": 9,
     "metadata": {},
     "output_type": "execute_result"
    }
   ],
   "source": [
    "df.head()"
   ]
  },
  {
   "cell_type": "code",
   "execution_count": 10,
   "id": "985d049e",
   "metadata": {},
   "outputs": [
    {
     "data": {
      "text/html": [
       "<div>\n",
       "<style scoped>\n",
       "    .dataframe tbody tr th:only-of-type {\n",
       "        vertical-align: middle;\n",
       "    }\n",
       "\n",
       "    .dataframe tbody tr th {\n",
       "        vertical-align: top;\n",
       "    }\n",
       "\n",
       "    .dataframe thead th {\n",
       "        text-align: right;\n",
       "    }\n",
       "</style>\n",
       "<table border=\"1\" class=\"dataframe\">\n",
       "  <thead>\n",
       "    <tr style=\"text-align: right;\">\n",
       "      <th></th>\n",
       "      <th>year</th>\n",
       "      <th>month</th>\n",
       "      <th>circle</th>\n",
       "      <th>type_of_connection</th>\n",
       "      <th>service_provider</th>\n",
       "      <th>value</th>\n",
       "      <th>unit</th>\n",
       "      <th>notes</th>\n",
       "    </tr>\n",
       "  </thead>\n",
       "  <tbody>\n",
       "    <tr>\n",
       "      <th>70723</th>\n",
       "      <td>2009</td>\n",
       "      <td>January</td>\n",
       "      <td>Uttar Pradesh (East)</td>\n",
       "      <td>wireline</td>\n",
       "      <td>BSNL</td>\n",
       "      <td>1440296.0</td>\n",
       "      <td>value in absolute number</td>\n",
       "      <td>NaN</td>\n",
       "    </tr>\n",
       "    <tr>\n",
       "      <th>70724</th>\n",
       "      <td>2009</td>\n",
       "      <td>January</td>\n",
       "      <td>Uttar Pradesh (West)</td>\n",
       "      <td>wireline</td>\n",
       "      <td>BSNL</td>\n",
       "      <td>940266.0</td>\n",
       "      <td>value in absolute number</td>\n",
       "      <td>NaN</td>\n",
       "    </tr>\n",
       "    <tr>\n",
       "      <th>70725</th>\n",
       "      <td>2009</td>\n",
       "      <td>January</td>\n",
       "      <td>Uttaranchal</td>\n",
       "      <td>wireline</td>\n",
       "      <td>BSNL</td>\n",
       "      <td>300884.0</td>\n",
       "      <td>value in absolute number</td>\n",
       "      <td>NaN</td>\n",
       "    </tr>\n",
       "    <tr>\n",
       "      <th>70726</th>\n",
       "      <td>2009</td>\n",
       "      <td>January</td>\n",
       "      <td>West Bengal</td>\n",
       "      <td>wireline</td>\n",
       "      <td>BSNL</td>\n",
       "      <td>1038499.0</td>\n",
       "      <td>value in absolute number</td>\n",
       "      <td>NaN</td>\n",
       "    </tr>\n",
       "    <tr>\n",
       "      <th>70727</th>\n",
       "      <td>2009</td>\n",
       "      <td>January</td>\n",
       "      <td>All India</td>\n",
       "      <td>wireline</td>\n",
       "      <td>BSNL</td>\n",
       "      <td>29291013.0</td>\n",
       "      <td>value in absolute number</td>\n",
       "      <td>NaN</td>\n",
       "    </tr>\n",
       "  </tbody>\n",
       "</table>\n",
       "</div>"
      ],
      "text/plain": [
       "       year    month                circle type_of_connection  \\\n",
       "70723  2009  January  Uttar Pradesh (East)           wireline   \n",
       "70724  2009  January  Uttar Pradesh (West)           wireline   \n",
       "70725  2009  January           Uttaranchal           wireline   \n",
       "70726  2009  January           West Bengal           wireline   \n",
       "70727  2009  January             All India           wireline   \n",
       "\n",
       "      service_provider       value                      unit notes  \n",
       "70723             BSNL   1440296.0  value in absolute number   NaN  \n",
       "70724             BSNL    940266.0  value in absolute number   NaN  \n",
       "70725             BSNL    300884.0  value in absolute number   NaN  \n",
       "70726             BSNL   1038499.0  value in absolute number   NaN  \n",
       "70727             BSNL  29291013.0  value in absolute number   NaN  "
      ]
     },
     "execution_count": 10,
     "metadata": {},
     "output_type": "execute_result"
    }
   ],
   "source": [
    "df.tail()"
   ]
  },
  {
   "cell_type": "code",
   "execution_count": 11,
   "id": "abec82b2",
   "metadata": {},
   "outputs": [
    {
     "data": {
      "text/html": [
       "<div>\n",
       "<style scoped>\n",
       "    .dataframe tbody tr th:only-of-type {\n",
       "        vertical-align: middle;\n",
       "    }\n",
       "\n",
       "    .dataframe tbody tr th {\n",
       "        vertical-align: top;\n",
       "    }\n",
       "\n",
       "    .dataframe thead th {\n",
       "        text-align: right;\n",
       "    }\n",
       "</style>\n",
       "<table border=\"1\" class=\"dataframe\">\n",
       "  <thead>\n",
       "    <tr style=\"text-align: right;\">\n",
       "      <th></th>\n",
       "      <th>year</th>\n",
       "    </tr>\n",
       "  </thead>\n",
       "  <tbody>\n",
       "    <tr>\n",
       "      <th>count</th>\n",
       "      <td>70728.000000</td>\n",
       "    </tr>\n",
       "    <tr>\n",
       "      <th>mean</th>\n",
       "      <td>2016.026298</td>\n",
       "    </tr>\n",
       "    <tr>\n",
       "      <th>std</th>\n",
       "      <td>4.748129</td>\n",
       "    </tr>\n",
       "    <tr>\n",
       "      <th>min</th>\n",
       "      <td>2009.000000</td>\n",
       "    </tr>\n",
       "    <tr>\n",
       "      <th>25%</th>\n",
       "      <td>2012.000000</td>\n",
       "    </tr>\n",
       "    <tr>\n",
       "      <th>50%</th>\n",
       "      <td>2016.000000</td>\n",
       "    </tr>\n",
       "    <tr>\n",
       "      <th>75%</th>\n",
       "      <td>2020.000000</td>\n",
       "    </tr>\n",
       "    <tr>\n",
       "      <th>max</th>\n",
       "      <td>2025.000000</td>\n",
       "    </tr>\n",
       "  </tbody>\n",
       "</table>\n",
       "</div>"
      ],
      "text/plain": [
       "               year\n",
       "count  70728.000000\n",
       "mean    2016.026298\n",
       "std        4.748129\n",
       "min     2009.000000\n",
       "25%     2012.000000\n",
       "50%     2016.000000\n",
       "75%     2020.000000\n",
       "max     2025.000000"
      ]
     },
     "execution_count": 11,
     "metadata": {},
     "output_type": "execute_result"
    }
   ],
   "source": [
    "df.describe()"
   ]
  },
  {
   "cell_type": "code",
   "execution_count": 40,
   "id": "c9c022cf",
   "metadata": {},
   "outputs": [
    {
     "data": {
      "text/plain": [
       "0        False\n",
       "1        False\n",
       "2        False\n",
       "3        False\n",
       "4        False\n",
       "         ...  \n",
       "70723    False\n",
       "70724    False\n",
       "70725    False\n",
       "70726    False\n",
       "70727    False\n",
       "Length: 70728, dtype: bool"
      ]
     },
     "execution_count": 40,
     "metadata": {},
     "output_type": "execute_result"
    }
   ],
   "source": [
    "df.duplicated()"
   ]
  },
  {
   "cell_type": "code",
   "execution_count": 12,
   "id": "b1f309c3",
   "metadata": {},
   "outputs": [
    {
     "data": {
      "text/plain": [
       "year                      0\n",
       "month                     0\n",
       "circle                    0\n",
       "type_of_connection        0\n",
       "service_provider          0\n",
       "value                 12332\n",
       "unit                      0\n",
       "notes                 70217\n",
       "dtype: int64"
      ]
     },
     "execution_count": 12,
     "metadata": {},
     "output_type": "execute_result"
    }
   ],
   "source": [
    "df.isnull().sum()"
   ]
  },
  {
   "cell_type": "code",
   "execution_count": 36,
   "id": "ac5357c8",
   "metadata": {},
   "outputs": [
    {
     "data": {
      "text/plain": [
       "year                    int64\n",
       "month                  object\n",
       "circle                 object\n",
       "type_of_connection     object\n",
       "service_provider       object\n",
       "value                 float64\n",
       "unit                   object\n",
       "notes                  object\n",
       "dtype: object"
      ]
     },
     "execution_count": 36,
     "metadata": {},
     "output_type": "execute_result"
    }
   ],
   "source": [
    "df['value'] = pd.to_numeric(df['value'], errors='coerce')\n",
    "df.dtypes"
   ]
  },
  {
   "cell_type": "code",
   "execution_count": 39,
   "id": "530bc47e",
   "metadata": {},
   "outputs": [
    {
     "name": "stdout",
     "output_type": "stream",
     "text": [
      "476527220.0\n",
      "0.0\n"
     ]
    }
   ],
   "source": [
    "print(df['value'].max())\n",
    "print(df['value'].min())"
   ]
  }
 ],
 "metadata": {
  "kernelspec": {
   "display_name": ".venv (3.13.7)",
   "language": "python",
   "name": "python3"
  },
  "language_info": {
   "codemirror_mode": {
    "name": "ipython",
    "version": 3
   },
   "file_extension": ".py",
   "mimetype": "text/x-python",
   "name": "python",
   "nbconvert_exporter": "python",
   "pygments_lexer": "ipython3",
   "version": "3.13.7"
  }
 },
 "nbformat": 4,
 "nbformat_minor": 5
}
